{
 "cells": [
  {
   "cell_type": "code",
   "execution_count": 24,
   "metadata": {},
   "outputs": [],
   "source": [
    "import pandas as pd\n",
    "import numpy as np\n",
    "\n",
    "df_origin_trn = pd.read_csv('../HN__4_8__19__train.csv') #임시 -csv직접 올려서 사용함, 4기~8기(2020년도 제외)\n",
    "df_origin_tst = pd.read_csv('../HN__2020__19__selected.csv') # 2020년도만 분리한 테스트셋 "
   ]
  },
  {
   "cell_type": "code",
   "execution_count": 31,
   "metadata": {},
   "outputs": [],
   "source": [
    "# 선택한 변수 목록: num_features, onehot_features, label_features, y_related\n",
    "num_features = [\"age\",\n",
    "\"ainc\",\n",
    "\"HE_PLS_15\",\n",
    "\"HE_PLS_30\",\n",
    "\"HE_mPLS\",\n",
    "\"HE_sbp\",\n",
    "\"HE_dbp\",\n",
    "\"HE_ht\",\n",
    "\"HE_wt\",\n",
    "\"HE_wc\",\n",
    "\"HE_glu\",\n",
    "\"HE_HbA1c\",\n",
    "\"HE_insulin\",\n",
    "\"HE_chol\",\n",
    "\"HE_HDL_st2\",\n",
    "\"HE_TG\",\n",
    "\"HE_LDL_drct\",\n",
    "\"HE_ast\",\n",
    "\"HE_alt\",\n",
    "\"HE_HB\",\n",
    "\"HE_HCT\",\n",
    "\"HE_BUN\",\n",
    "\"HE_crea\",\n",
    "\"HE_WBC\",\n",
    "\"HE_RBC\",\n",
    "\"HE_Bplt\",\n",
    "\"HE_Uacid\",\n",
    "\"HE_Uph\",\n",
    "\"HE_Usg\",\n",
    "\"HE_Ucrea\"]\n",
    "\n",
    "onehot_features = [\"region\",\n",
    "\"sex\",\n",
    "\"occp\",\n",
    "\"marri_1\",\n",
    "\"tins\",\n",
    "\"npins\",\n",
    "\"D_2_1\",\n",
    "\"DI1_pr\",\n",
    "\"DI1_pt\",\n",
    "\"DI2_pr\",\n",
    "\"DI2_pt\",\n",
    "\"DI3_pr\",\n",
    "\"DI3_pt\",\n",
    "\"DJ4_pr\",\n",
    "\"DJ4_pt\",\n",
    "\"DE1_pr\",\n",
    "\"DE1_pt\",\n",
    "\"BH9_11\",\n",
    "\"BH1\",\n",
    "\"BH2_61\",\n",
    "\"LQ4_00\",\n",
    "\"LQ1_sb\",\n",
    "\"LQ2_ab\",\n",
    "\"AC1_yr\",\n",
    "\"MH1_yr\",\n",
    "\"EC_occp\",\n",
    "\"EC_stt_1\",\n",
    "\"EC_stt_2\",\n",
    "\"EC_wht_0\",\n",
    "\"BO1_1\",\n",
    "\"BO2_1\",\n",
    "\"BD1\",\n",
    "\"BS8_2\",\n",
    "\"BS9_2\",\n",
    "\"LW_ms\",\n",
    "\"LW_pr\",\n",
    "\"LW_oc\",\n",
    "\"HE_rPLS\",\n",
    "\"HE_Unitr\",\n",
    "\"HE_Upro\",\n",
    "\"HE_Uglu\",\n",
    "\"HE_Uket\",\n",
    "\"HE_Ubil\",\n",
    "\"HE_Ubld\",\n",
    "\"HE_Uro\",\n",
    "\"BM1_0\",\n",
    "\"BM1_1\",\n",
    "\"BM1_2\",\n",
    "\"BM1_3\",\n",
    "\"BM1_4\",\n",
    "\"BM1_5\",\n",
    "\"BM1_6\",\n",
    "\"BM1_7\",\n",
    "\"BM1_8\",\n",
    "\"L_BR_TO\",\n",
    "\"L_LN_TO\",\n",
    "\"L_DN_TO\",\n",
    "\"LK_LB_US\",\n",
    "\"LK_LB_EF\",\n",
    "\"live_t\",\n",
    "\"educ\",\n",
    "\"BO1\",\n",
    "\"HE_obe\",]\n",
    "\n",
    "label_features = [\"incm\",\n",
    "\"ho_incm\",\n",
    "\"incm5\",\n",
    "\"ho_incm5\",\n",
    "\"edu\",\n",
    "\"cfam\",\n",
    "\"house\",\n",
    "\"D_1_1\",\n",
    "\"DI3_2\",\n",
    "\"BD1_11\",\n",
    "\"BD2_1\",\n",
    "\"BA2_12\",\n",
    "\"BA2_13\",\n",
    "# \"BP1\",\n",
    "\"BS3_1\",\n",
    "\"BE3_31\",\n",
    "\"BE5_1\",\n",
    "\"OR1\",\n",
    "]\n",
    "\n",
    "y_related =[\"BP_PHQ_1\",\n",
    "\"BP_PHQ_2\",\n",
    "\"BP_PHQ_3\",\n",
    "\"BP_PHQ_4\",\n",
    "\"BP_PHQ_5\",\n",
    "\"BP_PHQ_6\",\n",
    "\"BP_PHQ_7\",\n",
    "\"BP_PHQ_8\",\n",
    "\"BP_PHQ_9\",\n",
    "\"mh_PHQ_S\",\n",
    "\"BP6_10\",\n",
    "\"BP6_31\",\n",
    "\"DF2_pr\",\n",
    "\"DF2_pt\",\n",
    "\"BP1\"]\n"
   ]
  },
  {
   "cell_type": "code",
   "execution_count": 32,
   "metadata": {},
   "outputs": [],
   "source": [
    "df_trn = df_origin_trn[num_features+onehot_features+label_features+y_related]\n",
    "df_tst = df_origin_tst[num_features+onehot_features+label_features+y_related]"
   ]
  },
  {
   "cell_type": "code",
   "execution_count": 33,
   "metadata": {},
   "outputs": [
    {
     "name": "stdout",
     "output_type": "stream",
     "text": [
      "(87986, 125)\n",
      "(6133, 125)\n"
     ]
    }
   ],
   "source": [
    "print(df_trn.shape) \n",
    "print(df_tst.shape) "
   ]
  },
  {
   "cell_type": "code",
   "execution_count": 19,
   "metadata": {},
   "outputs": [],
   "source": [
    "def manual_preprocess(df:pd.DataFrame, num_features, onehot_features, label_features, y_related):\n",
    "    # 1) 9, 99, 999 인 녀석들(모름/무응답) null 처리\n",
    "    df = df.replace([9, 99, 999, 9999], np.nan, inplace=False)\n",
    "\n",
    "    # 2) mh_PHQ_S 는 null값인데, 각 문항 응답인 BP_PHQ_1 ~ 9의 값이 있는 경우, 더해서 mh_PHQ_S에 넣어주기\n",
    "    cond = df[\"BP_PHQ_1\"].notna() & \\\n",
    "            df[\"BP_PHQ_2\"].notna() & \\\n",
    "            df[\"BP_PHQ_3\"].notna() & \\\n",
    "            df[\"BP_PHQ_4\"].notna() & \\\n",
    "            df[\"BP_PHQ_5\"].notna() & \\\n",
    "            df[\"BP_PHQ_6\"].notna() & \\\n",
    "            df[\"BP_PHQ_7\"].notna() & \\\n",
    "            df[\"BP_PHQ_8\"].notna() & \\\n",
    "            df[\"BP_PHQ_9\"].notna()\n",
    "    \n",
    "    a = df[df[\"mh_PHQ_S\"].isnull() & cond][[\"BP_PHQ_1\", \"BP_PHQ_2\", \"BP_PHQ_3\", \"BP_PHQ_4\", \"BP_PHQ_5\", \"BP_PHQ_6\", \"BP_PHQ_7\", \"BP_PHQ_8\", \"BP_PHQ_9\"]]\n",
    "    b = a[a <= 3].sum(axis=1)\n",
    "    b[b >= 1] #125\n",
    "\n",
    "    df['mh_PHQ_S'] = b[b >=1]\n",
    "\n",
    "    # 3) 결측값 처리 1 - row 기준\n",
    "    threshold = 0.3 # threshold for null proportion\n",
    "    null_percent = df.isnull().mean(axis = 1) # 각 행에 대한 결측값 비율 계산\n",
    "    df = df[null_percent < threshold]\n",
    "    \n",
    "    # 4) 변수 생성 `depressed` \n",
    "    cond1 = df['mh_PHQ_S'] >= 10 # mh_PHQ_S - total score \n",
    "    cond2 = df['BP_PHQ_9'].isin([1, 2, 3]) # person who chose 1, 2, 3 in 9th question \n",
    "    cond3 = df['BP6_10'] == 1 \n",
    "    cond4 = df['BP6_31'] == 1\n",
    "    cond5 = (df['DF2_pr'] == 1) & (df['mh_PHQ_S'].isna())\n",
    "\n",
    "    df[cond1 | cond2 | cond3 | cond4 | cond5].drop_duplicates()\n",
    " \n",
    "    df.loc[cond1 | cond2 | cond3 | cond4 | cond5, 'depressed'] = 1 # 조건 중 하나 이상을 만족하는 행에 'depressed' 변수에 1 값 \n",
    "    df.loc[~(cond1 | cond2 | cond3 | cond4 | cond5), 'depressed'] = 0 # 조건 중 하나라도 만족하지 않는 행에 0 값\n",
    "\n",
    "    # 5) 학습에 방해가 될 수 있는 그룹 제거 (우울증에 관한 정보가 없는 경우)\n",
    "    df.drop(df[df['DF2_pr'].isna() & df['mh_PHQ_S'].isna()].index, inplace=True)\n",
    "    df = df[(df['DF2_pr'] != 8 |  ~df['mh_PHQ_S'].isna())]\n",
    "\n",
    "    # 6) 결측값 처리 2 - columns 기준\n",
    "    threshold = 0.1 # 10% 기준 # TODO 30%로 바꿔보기 \n",
    "    null_percent = df.isnull().mean() # 각 열에 대한 결측값 비율 계산\n",
    "    selected_cols = null_percent[null_percent < threshold].index\n",
    "    df = df[selected_cols]\n",
    "\n",
    "    # 7) y_related 변수를 피쳐에서 제외하기\n",
    "    remained_y = set(df.columns).intersection(set(y_related))\n",
    "    y = df['depressed'] # y 생성\n",
    "    X = df.drop(columns=list(remained_y), inplace=False) # X 생성\n",
    "\n",
    "    # 8) 위의 결측값 처리에서 빠진 column을 각 피쳐 그룹에서 제외하기\n",
    "    num_features = set(df.columns).intersection(set(num_features))\n",
    "    onehot_features = set(df.columns).intersection(set(onehot_features))\n",
    "    label_features = set(df.columns).intersection(set(label_features))\n",
    "\n",
    "    # 9) label features중 비해당(8) 값을 각각 알맞은 값으로 대체하기\n",
    "    label_ans_8 = [\"DI3_2\", \"BD1_11\", \"BD2_11\", \"BA2_12\", \"BA2_13\", \"BP1\", \"BS3_1\",\"BE3_31\", \"BE5_1\"] # BD2_11 - removed\n",
    "\n",
    "    # 'DI3_2' 변수의 값이 8인 경우, 해당 값을 0으로 바꾸기\n",
    "    X['DI3_2'] = X['DI3_2'].apply(lambda x: 3 if x == 8 else x)\n",
    "    X['BD1_11'] = X['BD1_11'].apply(lambda x: 1 if x == 8 else x)\n",
    "    # X['BD2_11'] = X['BD2_11'].apply(lambda x: 0 if x == 8 else x)\n",
    "    X['BA2_12'] = X['BA2_12'].apply(lambda x: 5 if x == 8 else x)\n",
    "    X['BA2_13'] = X['BA2_13'].apply(lambda x: 5 if x == 8 else x)\n",
    "    X['BA2_13'] = X['BA2_13'].apply(lambda x: 5 if x == 8 else x)\n",
    "    # X['BP1'] = X['BP1'].apply(lambda x: 5 if x == 8 else x)\n",
    "    X['BS3_1'] = X['BS3_1'].apply(lambda x: 0 if x == 8 else x)\n",
    "    # X['BE3_31'] = X['BE3_31'].apply(lambda x: 5 if x == 88 else x)\n",
    "    # X['BE5_1'] = X['BE5_1'].apply(lambda x: 5 if x == 88 else x)\n",
    "\n",
    "    print(\"X.shape:\", X.shape)\n",
    "    print(\"y.shape:\", y.shape)\n",
    "\n",
    "    return X, y, list(num_features), list(onehot_features), list(label_features), list(y_related)"
   ]
  },
  {
   "cell_type": "code",
   "execution_count": 34,
   "metadata": {},
   "outputs": [
    {
     "name": "stdout",
     "output_type": "stream",
     "text": [
      "X.shape: (74517, 89)\n",
      "y.shape: (74517,)\n",
      "X.shape: (5226, 99)\n",
      "y.shape: (5226,)\n"
     ]
    }
   ],
   "source": [
    "trn_X, trn_y, num_features, onehot_features, label_features, y_related = manual_preprocess(df_trn, num_features, onehot_features, label_features, y_related)\n",
    "tst_X, tst_y, num_features, onehot_features, label_features, y_related = manual_preprocess(df_tst, num_features, onehot_features, label_features, y_related)"
   ]
  },
  {
   "cell_type": "code",
   "execution_count": 35,
   "metadata": {},
   "outputs": [
    {
     "data": {
      "text/plain": [
       "(5226, 89)"
      ]
     },
     "execution_count": 35,
     "metadata": {},
     "output_type": "execute_result"
    }
   ],
   "source": [
    "# 10) train column과 test column 일치시키기\n",
    "tst_X = tst_X[list(trn_X.columns)]\n",
    "tst_X.shape"
   ]
  },
  {
   "cell_type": "code",
   "execution_count": 36,
   "metadata": {},
   "outputs": [
    {
     "data": {
      "text/plain": [
       "depressed\n",
       "0.0    67804\n",
       "1.0     6713\n",
       "Name: count, dtype: int64"
      ]
     },
     "execution_count": 36,
     "metadata": {},
     "output_type": "execute_result"
    }
   ],
   "source": [
    "trn_y.value_counts()"
   ]
  },
  {
   "cell_type": "code",
   "execution_count": 38,
   "metadata": {},
   "outputs": [],
   "source": [
    "# Output: train set\n",
    "trn_X.to_csv('../data_local/train_X_231211.csv', index=False)\n",
    "trn_y.to_csv('../data_local/train_y_231211.csv', index=False)"
   ]
  },
  {
   "cell_type": "code",
   "execution_count": 39,
   "metadata": {},
   "outputs": [],
   "source": [
    "# Output: test set\n",
    "tst_X.to_csv('../data_local/test_X_231211.csv', index=False)\n",
    "tst_y.to_csv('../data_local/test_y_231211.csv', index=False)"
   ]
  },
  {
   "cell_type": "code",
   "execution_count": 48,
   "metadata": {},
   "outputs": [
    {
     "data": {
      "text/plain": [
       "['BP_PHQ_1',\n",
       " 'BP_PHQ_2',\n",
       " 'BP_PHQ_3',\n",
       " 'BP_PHQ_4',\n",
       " 'BP_PHQ_5',\n",
       " 'BP_PHQ_6',\n",
       " 'BP_PHQ_7',\n",
       " 'BP_PHQ_8',\n",
       " 'BP_PHQ_9',\n",
       " 'mh_PHQ_S',\n",
       " 'BP6_10',\n",
       " 'BP6_31',\n",
       " 'DF2_pr',\n",
       " 'DF2_pt',\n",
       " 'BP1']"
      ]
     },
     "execution_count": 48,
     "metadata": {},
     "output_type": "execute_result"
    }
   ],
   "source": [
    "y_related\n"
   ]
  }
 ],
 "metadata": {
  "kernelspec": {
   "display_name": "base",
   "language": "python",
   "name": "python3"
  },
  "language_info": {
   "codemirror_mode": {
    "name": "ipython",
    "version": 3
   },
   "file_extension": ".py",
   "mimetype": "text/x-python",
   "name": "python",
   "nbconvert_exporter": "python",
   "pygments_lexer": "ipython3",
   "version": "3.11.5"
  }
 },
 "nbformat": 4,
 "nbformat_minor": 2
}
