{
 "cells": [
  {
   "cell_type": "markdown",
   "metadata": {},
   "source": [
    "### 변경 사항\n",
    "- 20231205 에서 변경 사항: csv 변경\n",
    "    - 4기 ~ 8기에서 test셋으로 사용한 2020년도 제외\n",
    "    - 피쳐 선택\n",
    "    - 만 19세 이상 "
   ]
  },
  {
   "cell_type": "code",
   "execution_count": null,
   "metadata": {},
   "outputs": [],
   "source": [
    "import pandas as pd\n",
    "import numpy as np\n",
    "\n",
    "df_origin = pd.read_csv('../data/HN__4_8__19__train.csv') #임시 -csv직접 올려서 사용함"
   ]
  },
  {
   "cell_type": "markdown",
   "metadata": {},
   "source": [
    "### 데이터셋 설명\n",
    "HN__4_8__19__selected.csv\n",
    "- num_features = 연속형 숫자형 변수들\n",
    "- onehot_features = 예/아니오 거나 응답별로 서로 순서/척도 관계 없이 정말 범주로만 나와있는 변수들 \n",
    "- label_features = 적음/보통/많음 과 같이 척도 관계가 있는 변수들\n",
    "- y_related = [\"BP_PHQ_1\",\"BP_PHQ_2\",\"BP_PHQ_3\",\"BP_PHQ_4\",\"BP_PHQ_5\",\"BP_PHQ_6\",\"BP_PHQ_7\",\"BP_PHQ_8\",\"BP_PHQ_9\",\"mh_PHQ_S\",\"BP6_10\",\"BP6_31\",\"DF2_pr\",\"DF2_pt\"]\n",
    "\n",
    "- 총 125개의 columns\n",
    "- 4기 ~ 8기\n",
    "- 만 19세 이상만 까지 처리해서 저장한 파일: HN__4_8__19__selected.csv"
   ]
  },
  {
   "cell_type": "code",
   "execution_count": null,
   "metadata": {},
   "outputs": [],
   "source": [
    "num_features = [\"age\",\n",
    "\"ainc\",\n",
    "\"HE_PLS_15\",\n",
    "\"HE_PLS_30\",\n",
    "\"HE_mPLS\",\n",
    "\"HE_sbp\",\n",
    "\"HE_dbp\",\n",
    "\"HE_ht\",\n",
    "\"HE_wt\",\n",
    "\"HE_wc\",\n",
    "\"HE_glu\",\n",
    "\"HE_HbA1c\",\n",
    "\"HE_insulin\",\n",
    "\"HE_chol\",\n",
    "\"HE_HDL_st2\",\n",
    "\"HE_TG\",\n",
    "\"HE_LDL_drct\",\n",
    "\"HE_ast\",\n",
    "\"HE_alt\",\n",
    "\"HE_HB\",\n",
    "\"HE_HCT\",\n",
    "\"HE_BUN\",\n",
    "\"HE_crea\",\n",
    "\"HE_WBC\",\n",
    "\"HE_RBC\",\n",
    "\"HE_Bplt\",\n",
    "\"HE_Uacid\",\n",
    "\"HE_Uph\",\n",
    "\"HE_Usg\",\n",
    "\"HE_Ucrea\"]"
   ]
  },
  {
   "cell_type": "code",
   "execution_count": null,
   "metadata": {},
   "outputs": [],
   "source": [
    "onehot_features = [\"region\",\n",
    "\"sex\",\n",
    "\"occp\",\n",
    "\"marri_1\",\n",
    "\"tins\",\n",
    "\"npins\",\n",
    "\"D_2_1\",\n",
    "\"DI1_pr\",\n",
    "\"DI1_pt\",\n",
    "\"DI2_pr\",\n",
    "\"DI2_pt\",\n",
    "\"DI3_pr\",\n",
    "\"DI3_pt\",\n",
    "\"DJ4_pr\",\n",
    "\"DJ4_pt\",\n",
    "\"DE1_pr\",\n",
    "\"DE1_pt\",\n",
    "\"BH9_11\",\n",
    "\"BH1\",\n",
    "\"BH2_61\",\n",
    "\"LQ4_00\",\n",
    "\"LQ1_sb\",\n",
    "\"LQ2_ab\",\n",
    "\"AC1_yr\",\n",
    "\"MH1_yr\",\n",
    "\"EC_occp\",\n",
    "\"EC_stt_1\",\n",
    "\"EC_stt_2\",\n",
    "\"EC_wht_0\",\n",
    "\"BO1_1\",\n",
    "\"BO2_1\",\n",
    "\"BD1\",\n",
    "\"BS8_2\",\n",
    "\"BS9_2\",\n",
    "\"LW_ms\",\n",
    "\"LW_pr\",\n",
    "\"LW_oc\",\n",
    "\"HE_rPLS\",\n",
    "\"HE_Unitr\",\n",
    "\"HE_Upro\",\n",
    "\"HE_Uglu\",\n",
    "\"HE_Uket\",\n",
    "\"HE_Ubil\",\n",
    "\"HE_Ubld\",\n",
    "\"HE_Uro\",\n",
    "\"BM1_0\",\n",
    "\"BM1_1\",\n",
    "\"BM1_2\",\n",
    "\"BM1_3\",\n",
    "\"BM1_4\",\n",
    "\"BM1_5\",\n",
    "\"BM1_6\",\n",
    "\"BM1_7\",\n",
    "\"BM1_8\",\n",
    "\"L_BR_TO\",\n",
    "\"L_LN_TO\",\n",
    "\"L_DN_TO\",\n",
    "\"LK_LB_US\",\n",
    "\"LK_LB_EF\",\n",
    "\"live_t\",\n",
    "\"educ\",\n",
    "\"BO1\",\n",
    "\"HE_obe\",]"
   ]
  },
  {
   "cell_type": "code",
   "execution_count": null,
   "metadata": {},
   "outputs": [],
   "source": [
    "label_features = [\"incm\",\n",
    "\"ho_incm\",\n",
    "\"incm5\",\n",
    "\"ho_incm5\",\n",
    "\"edu\",\n",
    "\"cfam\",\n",
    "\"house\",\n",
    "\"D_1_1\",\n",
    "\"DI3_2\",\n",
    "\"BD1_11\",\n",
    "\"BD2_1\",\n",
    "\"BA2_12\",\n",
    "\"BA2_13\",\n",
    "# \"BP1\",\n",
    "\"BS3_1\",\n",
    "\"BE3_31\",\n",
    "\"BE5_1\",\n",
    "\"OR1\",\n",
    "]"
   ]
  },
  {
   "cell_type": "code",
   "execution_count": null,
   "metadata": {},
   "outputs": [],
   "source": [
    "y_related =[\"BP_PHQ_1\",\n",
    "\"BP_PHQ_2\",\n",
    "\"BP_PHQ_3\",\n",
    "\"BP_PHQ_4\",\n",
    "\"BP_PHQ_5\",\n",
    "\"BP_PHQ_6\",\n",
    "\"BP_PHQ_7\",\n",
    "\"BP_PHQ_8\",\n",
    "\"BP_PHQ_9\",\n",
    "\"mh_PHQ_S\",\n",
    "\"BP6_10\",\n",
    "\"BP6_31\",\n",
    "\"DF2_pr\",\n",
    "\"DF2_pt\"]\n",
    "\n",
    "#######임시처리\n",
    "y_related += [\"BP1\"]\n",
    "y_related"
   ]
  },
  {
   "cell_type": "code",
   "execution_count": null,
   "metadata": {},
   "outputs": [],
   "source": [
    "df = df_origin[num_features+onehot_features+label_features+y_related]\n",
    "df"
   ]
  },
  {
   "cell_type": "code",
   "execution_count": null,
   "metadata": {},
   "outputs": [],
   "source": [
    "df.isna().sum().sort_values(ascending=False)"
   ]
  },
  {
   "cell_type": "code",
   "execution_count": null,
   "metadata": {},
   "outputs": [],
   "source": [
    "## 20231204_v4 반영\n",
    "## ['LQ4_24', 'N_DT_DS', 'N_DUSUAL', 'N_DAY'] object 타입이라 뺌\n",
    "## [9, 99, 999, 9999] 무응답 널처리\n",
    "\n",
    "####### 얘네 빼도 되는지 확인 - object 타입인 녀석들 ####\n",
    "# df = df.drop(columns=['LQ4_24', 'N_DT_DS', 'N_DUSUAL', 'N_DAY'], inplace=False)\n",
    "\n",
    "####### 9, 99, 999 인 녀석들(모름/무응답) null 처리\n",
    "df = df.replace([9, 99, 999, 9999], np.nan, inplace=False)\n",
    "df.isna().sum().sort_values(ascending=False)"
   ]
  },
  {
   "cell_type": "code",
   "execution_count": null,
   "metadata": {},
   "outputs": [],
   "source": [
    "cond = df[\"BP_PHQ_1\"].notna() & \\\n",
    "        df[\"BP_PHQ_2\"].notna() & \\\n",
    "        df[\"BP_PHQ_3\"].notna() & \\\n",
    "        df[\"BP_PHQ_4\"].notna() & \\\n",
    "        df[\"BP_PHQ_5\"].notna() & \\\n",
    "        df[\"BP_PHQ_6\"].notna() & \\\n",
    "        df[\"BP_PHQ_7\"].notna() & \\\n",
    "        df[\"BP_PHQ_8\"].notna() & \\\n",
    "        df[\"BP_PHQ_9\"].notna()\n",
    "\n",
    "df[df[\"mh_PHQ_S\"].isnull() & cond][[\"BP_PHQ_1\", \"BP_PHQ_2\", \"BP_PHQ_3\", \"BP_PHQ_4\", \"BP_PHQ_5\", \"BP_PHQ_6\", \"BP_PHQ_7\", \"BP_PHQ_8\", \"BP_PHQ_9\"]].value_counts()"
   ]
  },
  {
   "cell_type": "code",
   "execution_count": null,
   "metadata": {},
   "outputs": [],
   "source": [
    "# mh_PHQ_S 는 null값인데, 각 문항 응답인 BP_PHQ_1 ~ 9의 값이 있는 경우, 더해서 mh_PHQ_S에 넣어주기\n",
    "a = df[df[\"mh_PHQ_S\"].isnull() & cond][[\"BP_PHQ_1\", \"BP_PHQ_2\", \"BP_PHQ_3\", \"BP_PHQ_4\", \"BP_PHQ_5\", \"BP_PHQ_6\", \"BP_PHQ_7\", \"BP_PHQ_8\", \"BP_PHQ_9\"]]\n",
    "\n",
    "b = a[a <= 3].sum(axis=1)\n",
    "b[b >= 1] #125\n",
    "\n",
    "df['mh_PHQ_S'] = b[b >=1]"
   ]
  },
  {
   "cell_type": "code",
   "execution_count": null,
   "metadata": {},
   "outputs": [],
   "source": [
    "### 결측값 처리 1\n",
    "# row 기준 \n",
    "threshold = 0.3 # threshold for null proportion\n",
    "null_percent = df.isnull().mean(axis = 1) # 각 행에 대한 결측값 비율 계산\n",
    "df = df[null_percent < threshold]\n",
    "df"
   ]
  },
  {
   "cell_type": "code",
   "execution_count": null,
   "metadata": {},
   "outputs": [],
   "source": [
    "# 생성변수: `depressed` Define depressed (dependent variable)\n",
    "cond1 = df['mh_PHQ_S'] >= 10 # mh_PHQ_S - total score \n",
    "cond2 = df['BP_PHQ_9'].isin([1, 2, 3]) # person who chose 1, 2, 3 in 9th question \n",
    "\n",
    "df[cond1 | cond2].drop_duplicates() # person with cond1 or cond2"
   ]
  },
  {
   "cell_type": "code",
   "execution_count": null,
   "metadata": {},
   "outputs": [],
   "source": [
    "# Create a new variable 'depressed' \n",
    "df.loc[cond1 | cond2, 'depressed'] = 1 # 두 조건 중 하나 이상을 만족하는 행에 'depressed' 변수에 1 값 \n",
    "df.loc[~(cond1 | cond2), 'depressed'] = 0 # 두 조건 중 하나라도 만족하지 않는 행에 0 값"
   ]
  },
  {
   "cell_type": "code",
   "execution_count": null,
   "metadata": {},
   "outputs": [],
   "source": [
    "# Check distribution of depressed to see if the data is imbalanced\n",
    "df.groupby('depressed').count() # groupby를 이용해 타겟 y 라벨의 클래스 별 개수를 확인"
   ]
  },
  {
   "cell_type": "code",
   "execution_count": null,
   "metadata": {},
   "outputs": [],
   "source": [
    "# Remove people who might be depressed\n",
    "# 1) DF2_pr 도 null값이고, mh_PHQ_S 도 null값인 경우 이 사람에 대한 우울증 관련 정보가 없기 때문에 데이터에서 drop \n",
    "df.drop(df[df['DF2_pr'].isna() & df['mh_PHQ_S'].isna()].index, inplace=True)"
   ]
  },
  {
   "cell_type": "code",
   "execution_count": null,
   "metadata": {},
   "outputs": [],
   "source": [
    "df.shape # Originally from 82308 rows × 125 columns to 82304 rows × 126 columns"
   ]
  },
  {
   "cell_type": "code",
   "execution_count": null,
   "metadata": {},
   "outputs": [],
   "source": [
    "# 2) DF2_pr == 8 (never been diagnosed by doctor) & mh_PHQ_S == NaN) 인 경우를 제외하려면?\n",
    "# DF2_pr != 8 or mh_PHQ != NaN (전부 다 ~ 취하기)\n",
    "df = df[(df['DF2_pr'] != 8 |  ~df['mh_PHQ_S'].isna())]\n",
    "df.shape"
   ]
  },
  {
   "cell_type": "code",
   "execution_count": null,
   "metadata": {},
   "outputs": [],
   "source": [
    "### 결측값 처리 2\n",
    "# Remove columns if percentage of NaN exceeds 0.1\n",
    "# threshold = 0.3 # 이거로 하나, 0.1로 하나 큰 차이 x\n",
    "threshold = 0.1 \n",
    "\n",
    "null_percent = df.isnull().mean() # 각 열에 대한 결측값 비율 계산\n",
    "selected_cols = null_percent[null_percent < threshold].index\n",
    "df = df[selected_cols]\n",
    "df.shape # (20492, 314)"
   ]
  },
  {
   "cell_type": "code",
   "execution_count": null,
   "metadata": {},
   "outputs": [],
   "source": [
    "df.columns # 'DF2_pr', 'DF2_pt', 'depressed'는 살아 있어야 함 \n",
    "#TODO\n",
    "# DF2_pr 변수 및 DF2_pt 변수 고려해줄 건지... 현 상태에서는 일단 제외하고 모델 돌려보는 걸 목표로 한다. "
   ]
  },
  {
   "cell_type": "code",
   "execution_count": null,
   "metadata": {},
   "outputs": [],
   "source": [
    "len(df.columns)"
   ]
  },
  {
   "cell_type": "code",
   "execution_count": null,
   "metadata": {},
   "outputs": [],
   "source": [
    "# df[['DF2_pr', 'DF2_pt']].isnull().sum() # 0, 0\n",
    "df[['BP6_10', 'BP6_31']].isnull().sum() # 35, 75\n",
    "\n",
    "# 두 변수 모두 1년간 자살 생각 및 자살 시도 여부를 예 아니오로 응답한 질문 \n",
    "# null 값 채우기에는 위험하기 때문에 일단 null rows drop \n",
    "###TODO 현재는 정확률을 일부로 높이기 위해 해당 변수를 X 피쳐에 포함 시킬 것.\n",
    "\"\"\"추후에는 해당 변수를 아예 제거해야 정확한 실험 가능합니다. \"\"\"\n",
    "df.drop(df[df['BP6_10'].isna() | df['BP6_31'].isna()].index, inplace=True)\n",
    "# df.shape"
   ]
  },
  {
   "cell_type": "code",
   "execution_count": null,
   "metadata": {},
   "outputs": [],
   "source": [
    "df.groupby('depressed').count() # groupby를 이용해 타겟 y 라벨의 클래스 별 개수를 확인"
   ]
  },
  {
   "cell_type": "code",
   "execution_count": null,
   "metadata": {},
   "outputs": [],
   "source": [
    "df.isnull().sum().sort_values(ascending = False) # 결측치 개수 확인"
   ]
  },
  {
   "cell_type": "code",
   "execution_count": null,
   "metadata": {},
   "outputs": [],
   "source": [
    "df.info()"
   ]
  },
  {
   "cell_type": "code",
   "execution_count": null,
   "metadata": {},
   "outputs": [],
   "source": [
    "# Consider Removed columns to create grouped features again\n",
    "removed = ['HE_PLS_15', 'HE_PLS_30', 'HE_mPLS', 'HE_HbA1c', 'HE_insulin', 'HE_LDL_drct', 'HE_Uacid', 'HE_Ucrea']\n",
    "num_features = [item for item in num_features if item not in removed]\n",
    "\n",
    "removed = ['region', 'AC1_yr', 'MH1_yr', 'EC_wht_0', 'LW_ms', 'LW_pr', 'LW_oc', 'BM1_0', 'L_BR_TO', 'L_LN_TO', 'L_DN_TO', 'LK_LB_US', 'LK_LB_EF']\n",
    "onehot_features = [item for item in onehot_features if item not in removed]\n",
    "\n",
    "removed = ['OR1']\n",
    "label_features = [item for item in label_features if item not in removed]\n",
    "\n",
    "# removed = [\"BP_PHQ_1\",\"BP_PHQ_2\",\"BP_PHQ_3\",\"BP_PHQ_4\",\"BP_PHQ_5\",\"BP_PHQ_6\",\"BP_PHQ_7\",\"BP_PHQ_8\",\"BP_PHQ_9\",\"mh_PHQ_S\"]\n",
    "# label_features = [item for item in y_related if item not in removed]"
   ]
  },
  {
   "cell_type": "code",
   "execution_count": null,
   "metadata": {},
   "outputs": [],
   "source": [
    "X = df.drop('depressed', axis = 1) # DF2_pr 들어가 있는 상태임\n",
    "X.shape # (79743, 94) \n",
    "X.columns"
   ]
  },
  {
   "cell_type": "code",
   "execution_count": null,
   "metadata": {},
   "outputs": [],
   "source": [
    "### 결측값 처리 3 - fillna: KNN\n",
    "from sklearn.impute import KNNImputer\n",
    "from sklearn.impute import SimpleImputer\n",
    "\n",
    "X = df.drop('depressed', axis = 1) # DF2_pr 들어가 있는 상태임\n",
    "X.shape # (79743, 94) \n",
    "\n",
    "###TODO 피쳐 별로 결측값 채우는 방법을 달리 할 수 있음 - 추가 EDA 작업\n",
    "\"\"\"\n",
    "1) num_features: numerical이니 KNN 써도 됨\n",
    "2) onehot_features, label_features: 보통 1.0 단위로 값이 커짐. --> KNN으로 결측값을 채우면 1.0 단위로 값이 나와야 하는데 1.2 이렇게 채워짐...\n",
    "-> 다른 방법으로 결측값 채워야 함 -> 최빈값?\n",
    "\"\"\"\n",
    "\n",
    "# 1) num_features 결측값 처리 - KNN\n",
    "knn_imp = KNNImputer(n_neighbors=5)\n",
    "X[num_features] = knn_imp.fit_transform(X[num_features])\n",
    "\n",
    "# 2) onehot_features, label_features 결측값 처리 - 최빈값(most frequent values)\n",
    "freq_imp = SimpleImputer(strategy = \"most_frequent\")\n",
    "X[onehot_features] = freq_imp.fit_transform(X[onehot_features])\n",
    "X[label_features] = freq_imp.fit_transform(X[label_features])"
   ]
  },
  {
   "cell_type": "code",
   "execution_count": null,
   "metadata": {},
   "outputs": [],
   "source": [
    "commons = set(X.columns).intersection(set(y_related))\n",
    "commons"
   ]
  },
  {
   "cell_type": "code",
   "execution_count": null,
   "metadata": {},
   "outputs": [],
   "source": [
    "X = X.drop(columns=list(commons), inplace=False)"
   ]
  },
  {
   "cell_type": "code",
   "execution_count": null,
   "metadata": {},
   "outputs": [],
   "source": [
    "X['BA2_12'].value_counts() # 소숫점 단위로 들어간 게 혹시 있는지 확인 -> 없음 good"
   ]
  },
  {
   "cell_type": "code",
   "execution_count": null,
   "metadata": {},
   "outputs": [],
   "source": [
    "X.shape"
   ]
  },
  {
   "cell_type": "code",
   "execution_count": null,
   "metadata": {},
   "outputs": [],
   "source": [
    "df['depressed'].value_counts()"
   ]
  },
  {
   "cell_type": "code",
   "execution_count": null,
   "metadata": {},
   "outputs": [],
   "source": [
    "# transform array(X) to dataframe\n",
    "df_new = pd.DataFrame(X, columns=X.columns) \n",
    "df_new.isna().sum().sort_values(ascending = False)"
   ]
  },
  {
   "cell_type": "markdown",
   "metadata": {},
   "source": [
    "### 피쳐 그룹별 인코딩 작업 -\n",
    "1. numeric -> 인코딩 없이 사용, 단 scaling 필요함 (일단 MinMaxScaler 사용)\n",
    "2. onehot -> onehot 인코딩으로 진행 (categorical)\n",
    "3. label -> label 인코딩으로 진행 (ordinal) -> 결측값 처리 전에 진행되면 좋음 (오히려)"
   ]
  },
  {
   "cell_type": "code",
   "execution_count": null,
   "metadata": {},
   "outputs": [],
   "source": [
    "\n",
    "df_new.shape"
   ]
  },
  {
   "cell_type": "code",
   "execution_count": null,
   "metadata": {},
   "outputs": [],
   "source": [
    "# df_new = df_new.drop(['BP6_10', 'BP6_31', 'DF2_pr', 'DF2_pt'], axis = 1, inplace=False)\n",
    "# df_new.shape"
   ]
  },
  {
   "cell_type": "code",
   "execution_count": null,
   "metadata": {},
   "outputs": [],
   "source": [
    "# 1. numeric # 1. numeric - scaling \n",
    "from sklearn.preprocessing import MinMaxScaler \n",
    "scaler = MinMaxScaler(feature_range=(0, 1))\n",
    "df_new[num_features] = scaler.fit_transform(df_new[num_features])"
   ]
  },
  {
   "cell_type": "code",
   "execution_count": null,
   "metadata": {},
   "outputs": [],
   "source": [
    "# 2. onehot -> onehot 인코딩으로 진행\n",
    "df_new = pd.get_dummies(df_new, columns=onehot_features) # sklearn OneHotEncoder 사용도 가능함"
   ]
  },
  {
   "cell_type": "code",
   "execution_count": null,
   "metadata": {},
   "outputs": [],
   "source": [
    "df_new.shape"
   ]
  },
  {
   "cell_type": "code",
   "execution_count": null,
   "metadata": {},
   "outputs": [],
   "source": [
    "# 3. label -> label 인코딩으로 진행 (ordinal)\n",
    "# label features 중에서 비해당 처리\n",
    "label_ans_8 = [\"DI3_2\", \"BD1_11\", \"BD2_11\", \"BA2_12\", \"BA2_13\", \"BP1\", \"BS3_1\",\"BE3_31\", \"BE5_1\"] # BD2_11 - removed\n",
    "\n",
    "\n",
    "# 'DI3_2' 변수의 값이 8인 경우, 해당 값을 0으로 바꾸기\n",
    "df_new['DI3_2'] = df_new['DI3_2'].apply(lambda x: 3 if x == 8 else x)\n",
    "df_new['BD1_11'] = df_new['BD1_11'].apply(lambda x: 1 if x == 8 else x)\n",
    "# df_new['BD2_11'] = df_new['BD2_11'].apply(lambda x: 0 if x == 8 else x)\n",
    "df_new['BA2_12'] = df_new['BA2_12'].apply(lambda x: 5 if x == 8 else x)\n",
    "df_new['BA2_13'] = df_new['BA2_13'].apply(lambda x: 5 if x == 8 else x)\n",
    "df_new['BA2_13'] = df_new['BA2_13'].apply(lambda x: 5 if x == 8 else x)\n",
    "# df_new['BP1'] = df_new['BP1'].apply(lambda x: 5 if x == 8 else x)\n",
    "df_new['BS3_1'] = df_new['BS3_1'].apply(lambda x: 0 if x == 8 else x)\n",
    "# df_new['BE3_31'] = df_new['BE3_31'].apply(lambda x: 5 if x == 88 else x)\n",
    "# df_new['BE5_1'] = df_new['BE5_1'].apply(lambda x: 5 if x == 88 else x)"
   ]
  },
  {
   "cell_type": "code",
   "execution_count": null,
   "metadata": {},
   "outputs": [],
   "source": [
    "df_new['DI3_2'].value_counts() # 라벨 인코딩 잘 되었는지 체크"
   ]
  },
  {
   "cell_type": "code",
   "execution_count": null,
   "metadata": {},
   "outputs": [],
   "source": [
    "df_new.isna().any().any()"
   ]
  },
  {
   "cell_type": "code",
   "execution_count": null,
   "metadata": {},
   "outputs": [],
   "source": [
    "df_new"
   ]
  },
  {
   "cell_type": "markdown",
   "metadata": {},
   "source": [
    "### Sampling\n",
    "- Under: random\n",
    "- Over: SMOTE"
   ]
  },
  {
   "cell_type": "code",
   "execution_count": null,
   "metadata": {},
   "outputs": [],
   "source": [
    "# under sampling.  OVER 만 하기엔 너무 많이 생성해야해서 under 선수행\n",
    "from imblearn.under_sampling import RandomUnderSampler\n",
    "\n",
    "X = df_new\n",
    "y = df['depressed']\n",
    "\n",
    "rus = RandomUnderSampler(sampling_strategy=0.1, random_state=42)\n",
    "X_under, y_under = rus.fit_resample(X, y)\n",
    "X_under.shape, y_under.shape"
   ]
  },
  {
   "cell_type": "code",
   "execution_count": null,
   "metadata": {},
   "outputs": [],
   "source": [
    "X_under.isna().sum().sort_values(ascending = False)"
   ]
  },
  {
   "cell_type": "code",
   "execution_count": null,
   "metadata": {},
   "outputs": [],
   "source": [
    "# over sampling\n",
    "from imblearn.over_sampling import SMOTE\n",
    "\n",
    "smote = SMOTE(random_state=42)\n",
    "X_over, y_over = smote.fit_resample(X_under, y_under)\n",
    "\n",
    "X_over.shape, y_over.shape"
   ]
  },
  {
   "cell_type": "code",
   "execution_count": null,
   "metadata": {},
   "outputs": [],
   "source": [
    "y_over.value_counts()"
   ]
  },
  {
   "cell_type": "code",
   "execution_count": null,
   "metadata": {},
   "outputs": [],
   "source": [
    "# X_over.to_csv('../data/HN_X_231206.csv', index=False)\n",
    "# y_over.to_csv('../data/HN_y_231206.csv', index=False)"
   ]
  },
  {
   "cell_type": "code",
   "execution_count": null,
   "metadata": {},
   "outputs": [],
   "source": [
    "X_over.shape"
   ]
  },
  {
   "cell_type": "code",
   "execution_count": null,
   "metadata": {},
   "outputs": [],
   "source": [
    "X_over.to_csv('../data/HN_X_231206_wo_y.csv', index=False)"
   ]
  },
  {
   "cell_type": "code",
   "execution_count": null,
   "metadata": {},
   "outputs": [],
   "source": [
    "X_over.columns"
   ]
  },
  {
   "cell_type": "code",
   "execution_count": null,
   "metadata": {},
   "outputs": [],
   "source": []
  }
 ],
 "metadata": {
  "kernelspec": {
   "display_name": "Python 3",
   "language": "python",
   "name": "python3"
  },
  "language_info": {
   "codemirror_mode": {
    "name": "ipython",
    "version": 3
   },
   "file_extension": ".py",
   "mimetype": "text/x-python",
   "name": "python",
   "nbconvert_exporter": "python",
   "pygments_lexer": "ipython3",
   "version": "3.11.5"
  }
 },
 "nbformat": 4,
 "nbformat_minor": 2
}
