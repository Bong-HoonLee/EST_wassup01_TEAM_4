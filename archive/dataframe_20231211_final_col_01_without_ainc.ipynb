{
 "cells": [
  {
   "cell_type": "code",
   "execution_count": 1,
   "metadata": {},
   "outputs": [
    {
     "ename": "FileNotFoundError",
     "evalue": "[Errno 2] No such file or directory: '../backup/HN_cardinal_1_8.csv'",
     "output_type": "error",
     "traceback": [
      "\u001b[0;31m---------------------------------------------------------------------------\u001b[0m",
      "\u001b[0;31mFileNotFoundError\u001b[0m                         Traceback (most recent call last)",
      "Cell \u001b[0;32mIn[1], line 4\u001b[0m\n\u001b[1;32m      1\u001b[0m \u001b[38;5;28;01mimport\u001b[39;00m \u001b[38;5;21;01mpandas\u001b[39;00m \u001b[38;5;28;01mas\u001b[39;00m \u001b[38;5;21;01mpd\u001b[39;00m\n\u001b[1;32m      2\u001b[0m \u001b[38;5;28;01mimport\u001b[39;00m \u001b[38;5;21;01mnumpy\u001b[39;00m \u001b[38;5;28;01mas\u001b[39;00m \u001b[38;5;21;01mnp\u001b[39;00m\n\u001b[0;32m----> 4\u001b[0m df_origin \u001b[38;5;241m=\u001b[39m \u001b[43mpd\u001b[49m\u001b[38;5;241;43m.\u001b[39;49m\u001b[43mread_csv\u001b[49m\u001b[43m(\u001b[49m\u001b[38;5;124;43m'\u001b[39;49m\u001b[38;5;124;43m../backup/HN_cardinal_1_8.csv\u001b[39;49m\u001b[38;5;124;43m'\u001b[39;49m\u001b[43m)\u001b[49m\n\u001b[1;32m      5\u001b[0m df_origin\u001b[38;5;241m.\u001b[39mshape\n",
      "File \u001b[0;32m~/yes/envs/MathAI/lib/python3.10/site-packages/pandas/io/parsers/readers.py:948\u001b[0m, in \u001b[0;36mread_csv\u001b[0;34m(filepath_or_buffer, sep, delimiter, header, names, index_col, usecols, dtype, engine, converters, true_values, false_values, skipinitialspace, skiprows, skipfooter, nrows, na_values, keep_default_na, na_filter, verbose, skip_blank_lines, parse_dates, infer_datetime_format, keep_date_col, date_parser, date_format, dayfirst, cache_dates, iterator, chunksize, compression, thousands, decimal, lineterminator, quotechar, quoting, doublequote, escapechar, comment, encoding, encoding_errors, dialect, on_bad_lines, delim_whitespace, low_memory, memory_map, float_precision, storage_options, dtype_backend)\u001b[0m\n\u001b[1;32m    935\u001b[0m kwds_defaults \u001b[38;5;241m=\u001b[39m _refine_defaults_read(\n\u001b[1;32m    936\u001b[0m     dialect,\n\u001b[1;32m    937\u001b[0m     delimiter,\n\u001b[0;32m   (...)\u001b[0m\n\u001b[1;32m    944\u001b[0m     dtype_backend\u001b[38;5;241m=\u001b[39mdtype_backend,\n\u001b[1;32m    945\u001b[0m )\n\u001b[1;32m    946\u001b[0m kwds\u001b[38;5;241m.\u001b[39mupdate(kwds_defaults)\n\u001b[0;32m--> 948\u001b[0m \u001b[38;5;28;01mreturn\u001b[39;00m \u001b[43m_read\u001b[49m\u001b[43m(\u001b[49m\u001b[43mfilepath_or_buffer\u001b[49m\u001b[43m,\u001b[49m\u001b[43m \u001b[49m\u001b[43mkwds\u001b[49m\u001b[43m)\u001b[49m\n",
      "File \u001b[0;32m~/yes/envs/MathAI/lib/python3.10/site-packages/pandas/io/parsers/readers.py:611\u001b[0m, in \u001b[0;36m_read\u001b[0;34m(filepath_or_buffer, kwds)\u001b[0m\n\u001b[1;32m    608\u001b[0m _validate_names(kwds\u001b[38;5;241m.\u001b[39mget(\u001b[38;5;124m\"\u001b[39m\u001b[38;5;124mnames\u001b[39m\u001b[38;5;124m\"\u001b[39m, \u001b[38;5;28;01mNone\u001b[39;00m))\n\u001b[1;32m    610\u001b[0m \u001b[38;5;66;03m# Create the parser.\u001b[39;00m\n\u001b[0;32m--> 611\u001b[0m parser \u001b[38;5;241m=\u001b[39m \u001b[43mTextFileReader\u001b[49m\u001b[43m(\u001b[49m\u001b[43mfilepath_or_buffer\u001b[49m\u001b[43m,\u001b[49m\u001b[43m \u001b[49m\u001b[38;5;241;43m*\u001b[39;49m\u001b[38;5;241;43m*\u001b[39;49m\u001b[43mkwds\u001b[49m\u001b[43m)\u001b[49m\n\u001b[1;32m    613\u001b[0m \u001b[38;5;28;01mif\u001b[39;00m chunksize \u001b[38;5;129;01mor\u001b[39;00m iterator:\n\u001b[1;32m    614\u001b[0m     \u001b[38;5;28;01mreturn\u001b[39;00m parser\n",
      "File \u001b[0;32m~/yes/envs/MathAI/lib/python3.10/site-packages/pandas/io/parsers/readers.py:1448\u001b[0m, in \u001b[0;36mTextFileReader.__init__\u001b[0;34m(self, f, engine, **kwds)\u001b[0m\n\u001b[1;32m   1445\u001b[0m     \u001b[38;5;28mself\u001b[39m\u001b[38;5;241m.\u001b[39moptions[\u001b[38;5;124m\"\u001b[39m\u001b[38;5;124mhas_index_names\u001b[39m\u001b[38;5;124m\"\u001b[39m] \u001b[38;5;241m=\u001b[39m kwds[\u001b[38;5;124m\"\u001b[39m\u001b[38;5;124mhas_index_names\u001b[39m\u001b[38;5;124m\"\u001b[39m]\n\u001b[1;32m   1447\u001b[0m \u001b[38;5;28mself\u001b[39m\u001b[38;5;241m.\u001b[39mhandles: IOHandles \u001b[38;5;241m|\u001b[39m \u001b[38;5;28;01mNone\u001b[39;00m \u001b[38;5;241m=\u001b[39m \u001b[38;5;28;01mNone\u001b[39;00m\n\u001b[0;32m-> 1448\u001b[0m \u001b[38;5;28mself\u001b[39m\u001b[38;5;241m.\u001b[39m_engine \u001b[38;5;241m=\u001b[39m \u001b[38;5;28;43mself\u001b[39;49m\u001b[38;5;241;43m.\u001b[39;49m\u001b[43m_make_engine\u001b[49m\u001b[43m(\u001b[49m\u001b[43mf\u001b[49m\u001b[43m,\u001b[49m\u001b[43m \u001b[49m\u001b[38;5;28;43mself\u001b[39;49m\u001b[38;5;241;43m.\u001b[39;49m\u001b[43mengine\u001b[49m\u001b[43m)\u001b[49m\n",
      "File \u001b[0;32m~/yes/envs/MathAI/lib/python3.10/site-packages/pandas/io/parsers/readers.py:1705\u001b[0m, in \u001b[0;36mTextFileReader._make_engine\u001b[0;34m(self, f, engine)\u001b[0m\n\u001b[1;32m   1703\u001b[0m     \u001b[38;5;28;01mif\u001b[39;00m \u001b[38;5;124m\"\u001b[39m\u001b[38;5;124mb\u001b[39m\u001b[38;5;124m\"\u001b[39m \u001b[38;5;129;01mnot\u001b[39;00m \u001b[38;5;129;01min\u001b[39;00m mode:\n\u001b[1;32m   1704\u001b[0m         mode \u001b[38;5;241m+\u001b[39m\u001b[38;5;241m=\u001b[39m \u001b[38;5;124m\"\u001b[39m\u001b[38;5;124mb\u001b[39m\u001b[38;5;124m\"\u001b[39m\n\u001b[0;32m-> 1705\u001b[0m \u001b[38;5;28mself\u001b[39m\u001b[38;5;241m.\u001b[39mhandles \u001b[38;5;241m=\u001b[39m \u001b[43mget_handle\u001b[49m\u001b[43m(\u001b[49m\n\u001b[1;32m   1706\u001b[0m \u001b[43m    \u001b[49m\u001b[43mf\u001b[49m\u001b[43m,\u001b[49m\n\u001b[1;32m   1707\u001b[0m \u001b[43m    \u001b[49m\u001b[43mmode\u001b[49m\u001b[43m,\u001b[49m\n\u001b[1;32m   1708\u001b[0m \u001b[43m    \u001b[49m\u001b[43mencoding\u001b[49m\u001b[38;5;241;43m=\u001b[39;49m\u001b[38;5;28;43mself\u001b[39;49m\u001b[38;5;241;43m.\u001b[39;49m\u001b[43moptions\u001b[49m\u001b[38;5;241;43m.\u001b[39;49m\u001b[43mget\u001b[49m\u001b[43m(\u001b[49m\u001b[38;5;124;43m\"\u001b[39;49m\u001b[38;5;124;43mencoding\u001b[39;49m\u001b[38;5;124;43m\"\u001b[39;49m\u001b[43m,\u001b[49m\u001b[43m \u001b[49m\u001b[38;5;28;43;01mNone\u001b[39;49;00m\u001b[43m)\u001b[49m\u001b[43m,\u001b[49m\n\u001b[1;32m   1709\u001b[0m \u001b[43m    \u001b[49m\u001b[43mcompression\u001b[49m\u001b[38;5;241;43m=\u001b[39;49m\u001b[38;5;28;43mself\u001b[39;49m\u001b[38;5;241;43m.\u001b[39;49m\u001b[43moptions\u001b[49m\u001b[38;5;241;43m.\u001b[39;49m\u001b[43mget\u001b[49m\u001b[43m(\u001b[49m\u001b[38;5;124;43m\"\u001b[39;49m\u001b[38;5;124;43mcompression\u001b[39;49m\u001b[38;5;124;43m\"\u001b[39;49m\u001b[43m,\u001b[49m\u001b[43m \u001b[49m\u001b[38;5;28;43;01mNone\u001b[39;49;00m\u001b[43m)\u001b[49m\u001b[43m,\u001b[49m\n\u001b[1;32m   1710\u001b[0m \u001b[43m    \u001b[49m\u001b[43mmemory_map\u001b[49m\u001b[38;5;241;43m=\u001b[39;49m\u001b[38;5;28;43mself\u001b[39;49m\u001b[38;5;241;43m.\u001b[39;49m\u001b[43moptions\u001b[49m\u001b[38;5;241;43m.\u001b[39;49m\u001b[43mget\u001b[49m\u001b[43m(\u001b[49m\u001b[38;5;124;43m\"\u001b[39;49m\u001b[38;5;124;43mmemory_map\u001b[39;49m\u001b[38;5;124;43m\"\u001b[39;49m\u001b[43m,\u001b[49m\u001b[43m \u001b[49m\u001b[38;5;28;43;01mFalse\u001b[39;49;00m\u001b[43m)\u001b[49m\u001b[43m,\u001b[49m\n\u001b[1;32m   1711\u001b[0m \u001b[43m    \u001b[49m\u001b[43mis_text\u001b[49m\u001b[38;5;241;43m=\u001b[39;49m\u001b[43mis_text\u001b[49m\u001b[43m,\u001b[49m\n\u001b[1;32m   1712\u001b[0m \u001b[43m    \u001b[49m\u001b[43merrors\u001b[49m\u001b[38;5;241;43m=\u001b[39;49m\u001b[38;5;28;43mself\u001b[39;49m\u001b[38;5;241;43m.\u001b[39;49m\u001b[43moptions\u001b[49m\u001b[38;5;241;43m.\u001b[39;49m\u001b[43mget\u001b[49m\u001b[43m(\u001b[49m\u001b[38;5;124;43m\"\u001b[39;49m\u001b[38;5;124;43mencoding_errors\u001b[39;49m\u001b[38;5;124;43m\"\u001b[39;49m\u001b[43m,\u001b[49m\u001b[43m \u001b[49m\u001b[38;5;124;43m\"\u001b[39;49m\u001b[38;5;124;43mstrict\u001b[39;49m\u001b[38;5;124;43m\"\u001b[39;49m\u001b[43m)\u001b[49m\u001b[43m,\u001b[49m\n\u001b[1;32m   1713\u001b[0m \u001b[43m    \u001b[49m\u001b[43mstorage_options\u001b[49m\u001b[38;5;241;43m=\u001b[39;49m\u001b[38;5;28;43mself\u001b[39;49m\u001b[38;5;241;43m.\u001b[39;49m\u001b[43moptions\u001b[49m\u001b[38;5;241;43m.\u001b[39;49m\u001b[43mget\u001b[49m\u001b[43m(\u001b[49m\u001b[38;5;124;43m\"\u001b[39;49m\u001b[38;5;124;43mstorage_options\u001b[39;49m\u001b[38;5;124;43m\"\u001b[39;49m\u001b[43m,\u001b[49m\u001b[43m \u001b[49m\u001b[38;5;28;43;01mNone\u001b[39;49;00m\u001b[43m)\u001b[49m\u001b[43m,\u001b[49m\n\u001b[1;32m   1714\u001b[0m \u001b[43m\u001b[49m\u001b[43m)\u001b[49m\n\u001b[1;32m   1715\u001b[0m \u001b[38;5;28;01massert\u001b[39;00m \u001b[38;5;28mself\u001b[39m\u001b[38;5;241m.\u001b[39mhandles \u001b[38;5;129;01mis\u001b[39;00m \u001b[38;5;129;01mnot\u001b[39;00m \u001b[38;5;28;01mNone\u001b[39;00m\n\u001b[1;32m   1716\u001b[0m f \u001b[38;5;241m=\u001b[39m \u001b[38;5;28mself\u001b[39m\u001b[38;5;241m.\u001b[39mhandles\u001b[38;5;241m.\u001b[39mhandle\n",
      "File \u001b[0;32m~/yes/envs/MathAI/lib/python3.10/site-packages/pandas/io/common.py:863\u001b[0m, in \u001b[0;36mget_handle\u001b[0;34m(path_or_buf, mode, encoding, compression, memory_map, is_text, errors, storage_options)\u001b[0m\n\u001b[1;32m    858\u001b[0m \u001b[38;5;28;01melif\u001b[39;00m \u001b[38;5;28misinstance\u001b[39m(handle, \u001b[38;5;28mstr\u001b[39m):\n\u001b[1;32m    859\u001b[0m     \u001b[38;5;66;03m# Check whether the filename is to be opened in binary mode.\u001b[39;00m\n\u001b[1;32m    860\u001b[0m     \u001b[38;5;66;03m# Binary mode does not support 'encoding' and 'newline'.\u001b[39;00m\n\u001b[1;32m    861\u001b[0m     \u001b[38;5;28;01mif\u001b[39;00m ioargs\u001b[38;5;241m.\u001b[39mencoding \u001b[38;5;129;01mand\u001b[39;00m \u001b[38;5;124m\"\u001b[39m\u001b[38;5;124mb\u001b[39m\u001b[38;5;124m\"\u001b[39m \u001b[38;5;129;01mnot\u001b[39;00m \u001b[38;5;129;01min\u001b[39;00m ioargs\u001b[38;5;241m.\u001b[39mmode:\n\u001b[1;32m    862\u001b[0m         \u001b[38;5;66;03m# Encoding\u001b[39;00m\n\u001b[0;32m--> 863\u001b[0m         handle \u001b[38;5;241m=\u001b[39m \u001b[38;5;28;43mopen\u001b[39;49m\u001b[43m(\u001b[49m\n\u001b[1;32m    864\u001b[0m \u001b[43m            \u001b[49m\u001b[43mhandle\u001b[49m\u001b[43m,\u001b[49m\n\u001b[1;32m    865\u001b[0m \u001b[43m            \u001b[49m\u001b[43mioargs\u001b[49m\u001b[38;5;241;43m.\u001b[39;49m\u001b[43mmode\u001b[49m\u001b[43m,\u001b[49m\n\u001b[1;32m    866\u001b[0m \u001b[43m            \u001b[49m\u001b[43mencoding\u001b[49m\u001b[38;5;241;43m=\u001b[39;49m\u001b[43mioargs\u001b[49m\u001b[38;5;241;43m.\u001b[39;49m\u001b[43mencoding\u001b[49m\u001b[43m,\u001b[49m\n\u001b[1;32m    867\u001b[0m \u001b[43m            \u001b[49m\u001b[43merrors\u001b[49m\u001b[38;5;241;43m=\u001b[39;49m\u001b[43merrors\u001b[49m\u001b[43m,\u001b[49m\n\u001b[1;32m    868\u001b[0m \u001b[43m            \u001b[49m\u001b[43mnewline\u001b[49m\u001b[38;5;241;43m=\u001b[39;49m\u001b[38;5;124;43m\"\u001b[39;49m\u001b[38;5;124;43m\"\u001b[39;49m\u001b[43m,\u001b[49m\n\u001b[1;32m    869\u001b[0m \u001b[43m        \u001b[49m\u001b[43m)\u001b[49m\n\u001b[1;32m    870\u001b[0m     \u001b[38;5;28;01melse\u001b[39;00m:\n\u001b[1;32m    871\u001b[0m         \u001b[38;5;66;03m# Binary mode\u001b[39;00m\n\u001b[1;32m    872\u001b[0m         handle \u001b[38;5;241m=\u001b[39m \u001b[38;5;28mopen\u001b[39m(handle, ioargs\u001b[38;5;241m.\u001b[39mmode)\n",
      "\u001b[0;31mFileNotFoundError\u001b[0m: [Errno 2] No such file or directory: '../backup/HN_cardinal_1_8.csv'"
     ]
    }
   ],
   "source": [
    "import pandas as pd\n",
    "import numpy as np\n",
    "\n",
    "df_origin = pd.read_csv('../backup/HN_cardinal_1_8.csv')\n",
    "df_origin.shape"
   ]
  },
  {
   "cell_type": "code",
   "execution_count": null,
   "metadata": {},
   "outputs": [],
   "source": [
    "#2020년 은 테스트셋으로 분리\n",
    "df_train = df_origin[df_origin['year'] != 2020]\n",
    "df_test = df_origin[df_origin['year'] == 2020]"
   ]
  },
  {
   "cell_type": "code",
   "execution_count": null,
   "metadata": {},
   "outputs": [
    {
     "data": {
      "text/plain": [
       "(87986, 4025)"
      ]
     },
     "execution_count": 3,
     "metadata": {},
     "output_type": "execute_result"
    }
   ],
   "source": [
    "# 4~8기 19세 이상\n",
    "df_train = df_train[(df_train['cardinal_number'] >= 4) & (df_train['cardinal_number'] <= 8) & (df_train['age'] >= 19)]\n",
    "df_train.shape"
   ]
  },
  {
   "cell_type": "code",
   "execution_count": null,
   "metadata": {},
   "outputs": [
    {
     "data": {
      "text/plain": [
       "(6133, 4025)"
      ]
     },
     "execution_count": 4,
     "metadata": {},
     "output_type": "execute_result"
    }
   ],
   "source": [
    "df_test = df_test[(df_test['cardinal_number'] >= 4) & (df_test['cardinal_number'] <= 8) & (df_test['age'] >= 19)]\n",
    "df_test.shape"
   ]
  },
  {
   "cell_type": "code",
   "execution_count": null,
   "metadata": {},
   "outputs": [],
   "source": [
    "num_features = [\"age\",\n",
    "# \"ainc\", # Random Forest Importance Top 4\n",
    "\"HE_PLS_15\",\n",
    "\"HE_PLS_30\",\n",
    "\"HE_mPLS\",\n",
    "\"HE_sbp\",\n",
    "\"HE_dbp\",\n",
    "\"HE_ht\",\n",
    "\"HE_wt\",\n",
    "\"HE_wc\",\n",
    "\"HE_glu\",\n",
    "\"HE_HbA1c\",\n",
    "\"HE_insulin\",\n",
    "\"HE_chol\",\n",
    "\"HE_HDL_st2\",\n",
    "\"HE_TG\",\n",
    "\"HE_LDL_drct\",\n",
    "\"HE_ast\",\n",
    "\"HE_alt\",\n",
    "\"HE_HB\",\n",
    "\"HE_HCT\",\n",
    "\"HE_BUN\",\n",
    "\"HE_crea\",\n",
    "\"HE_WBC\",\n",
    "\"HE_RBC\",\n",
    "\"HE_Bplt\",\n",
    "\"HE_Uacid\",\n",
    "\"HE_Uph\",\n",
    "\"HE_Usg\",\n",
    "\"HE_Ucrea\"]"
   ]
  },
  {
   "cell_type": "code",
   "execution_count": null,
   "metadata": {},
   "outputs": [],
   "source": [
    "onehot_features = [\"region\",\n",
    "\"sex\",\n",
    "\"occp\",\n",
    "\"marri_1\",\n",
    "\"tins\",\n",
    "\"npins\",\n",
    "\"D_2_1\",\n",
    "\"DI1_pr\",\n",
    "\"DI1_pt\",\n",
    "\"DI2_pr\",\n",
    "\"DI2_pt\",\n",
    "\"DI3_pr\",\n",
    "\"DI3_pt\",\n",
    "\"DJ4_pr\",\n",
    "\"DJ4_pt\",\n",
    "\"DE1_pr\",\n",
    "\"DE1_pt\",\n",
    "\"BH9_11\",\n",
    "\"BH1\",\n",
    "\"BH2_61\",\n",
    "\"LQ4_00\", # Random Forest Importance Top 3 여기서 제거할 수 없음 LQ4_00_1.0\n",
    "\"LQ1_sb\",\n",
    "\"LQ2_ab\",\n",
    "\"AC1_yr\",\n",
    "\"MH1_yr\",\n",
    "\"EC_occp\",\n",
    "\"EC_stt_1\",\n",
    "\"EC_stt_2\",\n",
    "\"EC_wht_0\",\n",
    "\"BO1_1\",\n",
    "\"BO2_1\",\n",
    "\"BD1\",\n",
    "\"BS8_2\",\n",
    "\"BS9_2\", # Random Forest Importance Top 2 여기서 제거할 수 없음 BS9_2_8.0\n",
    "\"LW_ms\",\n",
    "\"LW_pr\",\n",
    "\"LW_oc\",\n",
    "\"HE_rPLS\",\n",
    "\"HE_Unitr\",\n",
    "\"HE_Upro\",\n",
    "\"HE_Uglu\",\n",
    "\"HE_Uket\",\n",
    "\"HE_Ubil\",\n",
    "\"HE_Ubld\",\n",
    "\"HE_Uro\",\n",
    "\"BM1_0\",\n",
    "\"BM1_1\",\n",
    "\"BM1_2\",\n",
    "\"BM1_3\",\n",
    "\"BM1_4\",\n",
    "\"BM1_5\",\n",
    "\"BM1_6\",\n",
    "\"BM1_7\",\n",
    "\"BM1_8\",\n",
    "\"L_BR_TO\",\n",
    "\"L_LN_TO\",\n",
    "\"L_DN_TO\",\n",
    "\"LK_LB_US\",\n",
    "\"LK_LB_EF\",\n",
    "\"live_t\",\n",
    "\"educ\",\n",
    "\"BO1\",\n",
    "\"HE_obe\",]"
   ]
  },
  {
   "cell_type": "code",
   "execution_count": null,
   "metadata": {},
   "outputs": [],
   "source": [
    "label_features = [\"incm\",\n",
    "\"ho_incm\",\n",
    "\"incm5\",\n",
    "\"ho_incm5\",\n",
    "\"edu\",\n",
    "\"cfam\",\n",
    "\"house\",\n",
    "\"D_1_1\", # Random Forest Importance Top 1\n",
    "\"DI3_2\",\n",
    "\"BD1_11\",\n",
    "\"BD2_1\",\n",
    "\"BA2_12\",\n",
    "\"BA2_13\",\n",
    "# \"BP1\",\n",
    "\"BS3_1\",\n",
    "\"BE3_31\",\n",
    "\"BE5_1\",\n",
    "\"OR1\",\n",
    "]"
   ]
  },
  {
   "cell_type": "code",
   "execution_count": null,
   "metadata": {},
   "outputs": [],
   "source": [
    "y_related =[\"BP_PHQ_1\",\n",
    "\"BP_PHQ_2\",\n",
    "\"BP_PHQ_3\",\n",
    "\"BP_PHQ_4\",\n",
    "\"BP_PHQ_5\",\n",
    "\"BP_PHQ_6\",\n",
    "\"BP_PHQ_7\",\n",
    "\"BP_PHQ_8\",\n",
    "\"BP_PHQ_9\",\n",
    "\"mh_PHQ_S\",\n",
    "\"BP6_10\",\n",
    "\"BP6_31\",\n",
    "\"DF2_pr\",\n",
    "\"DF2_pt\", \"BP1\"]"
   ]
  },
  {
   "cell_type": "code",
   "execution_count": null,
   "metadata": {},
   "outputs": [],
   "source": [
    "df_train = df_train[num_features + onehot_features + label_features + y_related]\n",
    "df_test = df_test[num_features + onehot_features + label_features + y_related]"
   ]
  },
  {
   "cell_type": "code",
   "execution_count": null,
   "metadata": {},
   "outputs": [],
   "source": [
    "def manual_preprocess(df:pd.DataFrame, num_features, onehot_features, label_features, y_related):\n",
    "    # 1) 9, 99, 999 인 녀석들(모름/무응답) null 처리\n",
    "    df = df.replace([9, 99, 999, 9999], np.nan, inplace=False)\n",
    "\n",
    "    # 2) mh_PHQ_S 는 null값인데, 각 문항 응답인 BP_PHQ_1 ~ 9의 값이 있는 경우, 더해서 mh_PHQ_S에 넣어주기\n",
    "    cond = df[\"BP_PHQ_1\"].notna() & \\\n",
    "            df[\"BP_PHQ_2\"].notna() & \\\n",
    "            df[\"BP_PHQ_3\"].notna() & \\\n",
    "            df[\"BP_PHQ_4\"].notna() & \\\n",
    "            df[\"BP_PHQ_5\"].notna() & \\\n",
    "            df[\"BP_PHQ_6\"].notna() & \\\n",
    "            df[\"BP_PHQ_7\"].notna() & \\\n",
    "            df[\"BP_PHQ_8\"].notna() & \\\n",
    "            df[\"BP_PHQ_9\"].notna()\n",
    "    \n",
    "    a = df[df[\"mh_PHQ_S\"].isnull() & cond][[\"BP_PHQ_1\", \"BP_PHQ_2\", \"BP_PHQ_3\", \"BP_PHQ_4\", \"BP_PHQ_5\", \"BP_PHQ_6\", \"BP_PHQ_7\", \"BP_PHQ_8\", \"BP_PHQ_9\"]]\n",
    "    b = a[a <= 3].sum(axis=1)\n",
    "    b[b >= 1] #125\n",
    "\n",
    "    df['mh_PHQ_S'] = b[b >=1]\n",
    "\n",
    "    # 3) 결측값 처리 1 - row 기준\n",
    "    threshold = 0.3 # threshold for null proportion\n",
    "    null_percent = df.isnull().mean(axis = 1) # 각 행에 대한 결측값 비율 계산\n",
    "    df = df[null_percent < threshold]\n",
    "    \n",
    "    # 4) 변수 생성 `depressed` \n",
    "    cond1 = df['mh_PHQ_S'] >= 10 # mh_PHQ_S - total score \n",
    "    cond2 = df['BP_PHQ_9'].isin([1, 2, 3]) # person who chose 1, 2, 3 in 9th question \n",
    "    cond3 = df['BP6_10'] == 1 \n",
    "    cond4 = df['BP6_31'] == 1\n",
    "    cond5 = (df['DF2_pr'] == 1) & (df['mh_PHQ_S'].isna())\n",
    "\n",
    "    df[cond1 | cond2 | cond3 | cond4 | cond5].drop_duplicates()\n",
    " \n",
    "    df.loc[cond1 | cond2 | cond3 | cond4 | cond5, 'depressed'] = 1 # 조건 중 하나 이상을 만족하는 행에 'depressed' 변수에 1 값 \n",
    "    df.loc[~(cond1 | cond2 | cond3 | cond4 | cond5), 'depressed'] = 0 # 조건 중 하나라도 만족하지 않는 행에 0 값\n",
    "\n",
    "    # 5) 학습에 방해가 될 수 있는 그룹 제거 (우울증에 관한 정보가 없는 경우)\n",
    "    df.drop(df[df['DF2_pr'].isna() & df['mh_PHQ_S'].isna()].index, inplace=True)\n",
    "    df = df[(df['DF2_pr'] != 8 |  ~df['mh_PHQ_S'].isna())]\n",
    "\n",
    "    # 6) 결측값 처리 2 - columns 기준\n",
    "    threshold = 0.1 # 10% 기준\n",
    "    null_percent = df.isnull().mean() # 각 열에 대한 결측값 비율 계산\n",
    "    selected_cols = null_percent[null_percent < threshold].index\n",
    "    df = df[selected_cols]\n",
    "\n",
    "    # 7) y_related 변수를 피쳐에서 제외하기\n",
    "    remained_y = set(df.columns).intersection(set(y_related))\n",
    "    y = df['depressed'] # y 생성\n",
    "    X = df.drop(columns=list(remained_y), inplace=False) # X 생성\n",
    "\n",
    "    # 8) 위의 결측값 처리에서 빠진 column을 각 피쳐 그룹에서 제외하기\n",
    "    num_features = set(df.columns).intersection(set(num_features))\n",
    "    onehot_features = set(df.columns).intersection(set(onehot_features))\n",
    "    label_features = set(df.columns).intersection(set(label_features))\n",
    "\n",
    "    # 9) label features중 비해당(8) 값을 각각 알맞은 값으로 대체하기\n",
    "    label_ans_8 = [\"DI3_2\", \"BD1_11\", \"BD2_11\", \"BA2_12\", \"BA2_13\", \"BP1\", \"BS3_1\",\"BE3_31\", \"BE5_1\"] # BD2_11 - removed\n",
    "\n",
    "    # 'DI3_2' 변수의 값이 8인 경우, 해당 값을 0으로 바꾸기\n",
    "    X['DI3_2'] = X['DI3_2'].apply(lambda x: 3 if x == 8 else x)\n",
    "    X['BD1_11'] = X['BD1_11'].apply(lambda x: 1 if x == 8 else x)\n",
    "    # X['BD2_11'] = X['BD2_11'].apply(lambda x: 0 if x == 8 else x)\n",
    "    X['BA2_12'] = X['BA2_12'].apply(lambda x: 5 if x == 8 else x)\n",
    "    X['BA2_13'] = X['BA2_13'].apply(lambda x: 5 if x == 8 else x)\n",
    "    X['BA2_13'] = X['BA2_13'].apply(lambda x: 5 if x == 8 else x)\n",
    "    # X['BP1'] = X['BP1'].apply(lambda x: 5 if x == 8 else x)\n",
    "    X['BS3_1'] = X['BS3_1'].apply(lambda x: 0 if x == 8 else x)\n",
    "    # X['BE3_31'] = X['BE3_31'].apply(lambda x: 5 if x == 88 else x)\n",
    "    # X['BE5_1'] = X['BE5_1'].apply(lambda x: 5 if x == 88 else x)\n",
    "\n",
    "    print(\"X.shape:\", X.shape)\n",
    "    print(\"y.shape:\", y.shape)\n",
    "\n",
    "    return X, y, list(num_features), list(onehot_features), list(label_features), list(y_related)"
   ]
  },
  {
   "cell_type": "code",
   "execution_count": null,
   "metadata": {},
   "outputs": [
    {
     "name": "stdout",
     "output_type": "stream",
     "text": [
      "X.shape: (74517, 89)\n",
      "y.shape: (74517,)\n",
      "X.shape: (5226, 99)\n",
      "y.shape: (5226,)\n"
     ]
    }
   ],
   "source": [
    "trn_X, trn_y, num_features, onehot_features, label_features, y_related = manual_preprocess(df_train, num_features, onehot_features, label_features, y_related)\n",
    "tst_X, tst_y, num_features, onehot_features, label_features, y_related = manual_preprocess(df_test, num_features, onehot_features, label_features, y_related)"
   ]
  },
  {
   "cell_type": "code",
   "execution_count": null,
   "metadata": {},
   "outputs": [
    {
     "data": {
      "text/plain": [
       "((74517, 89), (5226, 99))"
      ]
     },
     "execution_count": 12,
     "metadata": {},
     "output_type": "execute_result"
    }
   ],
   "source": [
    "trn_X.shape, tst_X.shape"
   ]
  },
  {
   "cell_type": "code",
   "execution_count": null,
   "metadata": {},
   "outputs": [],
   "source": []
  },
  {
   "cell_type": "code",
   "execution_count": 13,
   "metadata": {},
   "outputs": [
    {
     "data": {
      "text/plain": [
       "(5226, 89)"
      ]
     },
     "execution_count": 13,
     "metadata": {},
     "output_type": "execute_result"
    }
   ],
   "source": [
    "tst_X = tst_X[list(trn_X.columns)]\n",
    "tst_X.shape"
   ]
  },
  {
   "cell_type": "code",
   "execution_count": 14,
   "metadata": {},
   "outputs": [],
   "source": [
    "trn_X.to_csv('../data/trn_X_20231211_final_col_01.csv', index=False)\n",
    "trn_y.to_csv('../data/trn_y_20231211_final_col_01.csv', index=False)\n",
    "\n",
    "tst_X.to_csv('../data/tst_X_20231211_final_col_01.csv', index=False)\n",
    "tst_y.to_csv('../data/tst_y_20231211_final_col_01.csv', index=False)"
   ]
  },
  {
   "cell_type": "code",
   "execution_count": 15,
   "metadata": {},
   "outputs": [
    {
     "name": "stdout",
     "output_type": "stream",
     "text": [
      "['HE_glu', 'HE_ast', 'HE_WBC', 'HE_Bplt', 'HE_dbp', 'ainc', 'HE_HDL_st2', 'HE_sbp', 'HE_wt', 'HE_HB', 'HE_chol', 'HE_RBC', 'HE_Usg', 'HE_alt', 'HE_wc', 'HE_crea', 'HE_Uph', 'HE_ht', 'HE_HCT', 'HE_BUN', 'age', 'HE_TG']\n",
      "['npins', 'DI2_pr', 'DJ4_pr', 'HE_Ubil', 'educ', 'BH1', 'sex', 'BO1', 'marri_1', 'HE_obe', 'DI2_pt', 'live_t', 'tins', 'HE_Uro', 'DI3_pr', 'BH9_11', 'EC_stt_1', 'occp', 'HE_Unitr', 'BO1_1', 'LQ4_00', 'HE_Upro', 'DE1_pr', 'DE1_pt', 'HE_Uglu', 'BM1_4', 'BM1_6', 'HE_rPLS', 'LQ1_sb', 'D_2_1', 'BH2_61', 'HE_Uket', 'BM1_8', 'BO2_1', 'EC_stt_2', 'BM1_3', 'DJ4_pt', 'HE_Ubld', 'BM1_7', 'BS8_2', 'LQ2_ab', 'EC_occp', 'BS9_2', 'BM1_5', 'DI3_pt', 'BD1', 'BM1_1', 'DI1_pr', 'DI1_pt', 'BM1_2']\n",
      "['cfam', 'BA2_13', 'BE5_1', 'BD2_1', 'DI3_2', 'edu', 'BD1_11', 'house', 'BE3_31', 'BA2_12', 'ho_incm5', 'incm', 'ho_incm', 'incm5', 'BS3_1', 'D_1_1']\n",
      "['BP_PHQ_1', 'BP_PHQ_2', 'BP_PHQ_3', 'BP_PHQ_4', 'BP_PHQ_5', 'BP_PHQ_6', 'BP_PHQ_7', 'BP_PHQ_8', 'BP_PHQ_9', 'mh_PHQ_S', 'BP6_10', 'BP6_31', 'DF2_pr', 'DF2_pt', 'BP1']\n"
     ]
    }
   ],
   "source": [
    "print(num_features)\n",
    "print(onehot_features)\n",
    "print(label_features)\n",
    "print(y_related)"
   ]
  },
  {
   "cell_type": "code",
   "execution_count": null,
   "metadata": {},
   "outputs": [],
   "source": []
  }
 ],
 "metadata": {
  "kernelspec": {
   "display_name": "torch-nightly",
   "language": "python",
   "name": "python3"
  },
  "language_info": {
   "codemirror_mode": {
    "name": "ipython",
    "version": 3
   },
   "file_extension": ".py",
   "mimetype": "text/x-python",
   "name": "python",
   "nbconvert_exporter": "python",
   "pygments_lexer": "ipython3",
   "version": "3.10.13"
  },
  "orig_nbformat": 4
 },
 "nbformat": 4,
 "nbformat_minor": 2
}
