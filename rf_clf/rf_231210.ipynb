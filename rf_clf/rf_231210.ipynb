{
 "cells": [
  {
   "cell_type": "code",
   "execution_count": 2,
   "metadata": {},
   "outputs": [],
   "source": [
    "import pandas as pd\n",
    "import numpy as np\n",
    "import matplotlib.pyplot as plt\n",
    "from sklearn.ensemble import RandomForestClassifier\n",
    "from sklearn.model_selection import cross_validate, StratifiedKFold\n",
    "import warnings\n",
    "warnings.simplefilter(\"ignore\")"
   ]
  },
  {
   "cell_type": "markdown",
   "metadata": {},
   "source": [
    "- 드라이브에 있는 train_X_df, train_y_df를 사용"
   ]
  },
  {
   "cell_type": "code",
   "execution_count": 10,
   "metadata": {},
   "outputs": [],
   "source": [
    "X_trn = pd.read_csv(\"/home/sangjun/work/data/train_X_df.csv\")\n",
    "X_origin = X_trn.copy()\n",
    "y_trn = pd.read_csv(\"/home/sangjun/work/data/train_y_df.csv\")\n",
    "X_trn.drop(\"depressed\", axis=1,inplace=True) # depressed가 있어서 삭제"
   ]
  },
  {
   "cell_type": "code",
   "execution_count": 8,
   "metadata": {},
   "outputs": [
    {
     "data": {
      "text/html": [
       "<div>\n",
       "<style scoped>\n",
       "    .dataframe tbody tr th:only-of-type {\n",
       "        vertical-align: middle;\n",
       "    }\n",
       "\n",
       "    .dataframe tbody tr th {\n",
       "        vertical-align: top;\n",
       "    }\n",
       "\n",
       "    .dataframe thead th {\n",
       "        text-align: right;\n",
       "    }\n",
       "</style>\n",
       "<table border=\"1\" class=\"dataframe\">\n",
       "  <thead>\n",
       "    <tr style=\"text-align: right;\">\n",
       "      <th></th>\n",
       "      <th>fit_time</th>\n",
       "      <th>score_time</th>\n",
       "      <th>test_accuracy</th>\n",
       "      <th>test_precision</th>\n",
       "      <th>test_recall</th>\n",
       "      <th>test_f1</th>\n",
       "      <th>test_roc_auc</th>\n",
       "    </tr>\n",
       "  </thead>\n",
       "  <tbody>\n",
       "    <tr>\n",
       "      <th>0</th>\n",
       "      <td>5.324392</td>\n",
       "      <td>0.238485</td>\n",
       "      <td>0.562651</td>\n",
       "      <td>0.715385</td>\n",
       "      <td>0.207821</td>\n",
       "      <td>0.322078</td>\n",
       "      <td>0.655358</td>\n",
       "    </tr>\n",
       "    <tr>\n",
       "      <th>1</th>\n",
       "      <td>5.329464</td>\n",
       "      <td>0.258095</td>\n",
       "      <td>0.645317</td>\n",
       "      <td>0.821399</td>\n",
       "      <td>0.371556</td>\n",
       "      <td>0.511664</td>\n",
       "      <td>0.783830</td>\n",
       "    </tr>\n",
       "    <tr>\n",
       "      <th>2</th>\n",
       "      <td>5.186110</td>\n",
       "      <td>0.245272</td>\n",
       "      <td>0.804655</td>\n",
       "      <td>0.855962</td>\n",
       "      <td>0.732588</td>\n",
       "      <td>0.789484</td>\n",
       "      <td>0.893759</td>\n",
       "    </tr>\n",
       "    <tr>\n",
       "      <th>3</th>\n",
       "      <td>4.992473</td>\n",
       "      <td>0.251165</td>\n",
       "      <td>0.912849</td>\n",
       "      <td>0.853363</td>\n",
       "      <td>0.997020</td>\n",
       "      <td>0.919615</td>\n",
       "      <td>0.993532</td>\n",
       "    </tr>\n",
       "    <tr>\n",
       "      <th>4</th>\n",
       "      <td>5.037398</td>\n",
       "      <td>0.239917</td>\n",
       "      <td>0.905400</td>\n",
       "      <td>0.842619</td>\n",
       "      <td>0.997020</td>\n",
       "      <td>0.913340</td>\n",
       "      <td>0.993727</td>\n",
       "    </tr>\n",
       "    <tr>\n",
       "      <th>mean</th>\n",
       "      <td>5.173967</td>\n",
       "      <td>0.246586</td>\n",
       "      <td>0.766175</td>\n",
       "      <td>0.817745</td>\n",
       "      <td>0.661201</td>\n",
       "      <td>0.691236</td>\n",
       "      <td>0.864041</td>\n",
       "    </tr>\n",
       "    <tr>\n",
       "      <th>std</th>\n",
       "      <td>0.156960</td>\n",
       "      <td>0.008143</td>\n",
       "      <td>0.156849</td>\n",
       "      <td>0.058819</td>\n",
       "      <td>0.360587</td>\n",
       "      <td>0.264416</td>\n",
       "      <td>0.145303</td>\n",
       "    </tr>\n",
       "  </tbody>\n",
       "</table>\n",
       "</div>"
      ],
      "text/plain": [
       "      fit_time  score_time  test_accuracy  test_precision  test_recall  \\\n",
       "0     5.324392    0.238485       0.562651        0.715385     0.207821   \n",
       "1     5.329464    0.258095       0.645317        0.821399     0.371556   \n",
       "2     5.186110    0.245272       0.804655        0.855962     0.732588   \n",
       "3     4.992473    0.251165       0.912849        0.853363     0.997020   \n",
       "4     5.037398    0.239917       0.905400        0.842619     0.997020   \n",
       "mean  5.173967    0.246586       0.766175        0.817745     0.661201   \n",
       "std   0.156960    0.008143       0.156849        0.058819     0.360587   \n",
       "\n",
       "       test_f1  test_roc_auc  \n",
       "0     0.322078      0.655358  \n",
       "1     0.511664      0.783830  \n",
       "2     0.789484      0.893759  \n",
       "3     0.919615      0.993532  \n",
       "4     0.913340      0.993727  \n",
       "mean  0.691236      0.864041  \n",
       "std   0.264416      0.145303  "
      ]
     },
     "execution_count": 8,
     "metadata": {},
     "output_type": "execute_result"
    }
   ],
   "source": [
    "# 5가지의 scoring을 볼 예정\n",
    "scoring = ['accuracy', 'precision', 'recall', 'f1', 'roc_auc']\n",
    "\n",
    "clf = RandomForestClassifier(n_estimators=100, max_depth=20, random_state=2023)\n",
    "scores = cross_validate(clf, X_trn, y_trn, scoring=scoring, cv=5) # 5fold\n",
    "\n",
    "scores_df = pd.DataFrame(scores)\n",
    "pd.concat([scores_df, scores_df.apply(['mean', 'std'])])"
   ]
  },
  {
   "cell_type": "markdown",
   "metadata": {},
   "source": [
    "- 왜 5fold로 나누었는데 갈수록 값이 증가할까?\n"
   ]
  },
  {
   "cell_type": "code",
   "execution_count": 9,
   "metadata": {},
   "outputs": [
    {
     "data": {
      "image/png": "[encoded data removed]",
      "text/plain": [
       "<Figure size 640x480 with 1 Axes>"
      ]
     },
     "metadata": {},
     "output_type": "display_data"
    }
   ],
   "source": [
    "# 사용 모델\n",
    "model = RandomForestClassifier(n_estimators=100, max_depth=20, random_state=2023)\n",
    "\n",
    "model.fit(X_trn, y_trn)\n",
    "\n",
    "# Feature 중요도 계산\n",
    "feature_importances = model.feature_importances_\n",
    "\n",
    "# 중요도가 0.01 이상인 feature만 선택\n",
    "selected_features = X_trn.columns[feature_importances >= 0.01]\n",
    "\n",
    "# Feature 중요도 시각화\n",
    "selected_idx = np.argsort(feature_importances[feature_importances >= 0.01])[::-1]\n",
    "\n",
    "plt.bar(range(len(selected_features)), feature_importances[feature_importances >= 0.01][selected_idx], align=\"center\")\n",
    "plt.xticks(range(len(selected_features)), selected_features[selected_idx], rotation=90)\n",
    "plt.xlabel(\"Feature\")\n",
    "plt.ylabel(\"Importance\")\n",
    "plt.title(\"Feature Importance in Random Forest Model (Importance >= 0.01)\")\n",
    "plt.show()"
   ]
  },
  {
   "cell_type": "markdown",
   "metadata": {},
   "source": [
    "### 결론\n",
    "- Random Forest를 이용하여 학습시 영향 많이 주는 속성은 없음 아마 ANN에 사용한 feature를 그대로 사용하다 보니 이렇게 된것 같다\n",
    "- Kfold를 사용할때 왜 score가 점점 증가하는지 이유를 모르겠습니다.\n"
   ]
  },
  {
   "cell_type": "markdown",
   "metadata": {},
   "source": [
    "추가로 Heatmap 분석한 부분입니다.\n",
    "\n",
    "train_X_df의 각 feature들의 상관관계를 분석하고 depressed와 얼마나 연관이 있는지 봅니다."
   ]
  },
  {
   "cell_type": "code",
   "execution_count": null,
   "metadata": {},
   "outputs": [],
   "source": [
    "import seaborn as sns\n",
    "sns.set(rc={'figure.figsize':(20,15)})"
   ]
  },
  {
   "cell_type": "code",
   "execution_count": null,
   "metadata": {},
   "outputs": [],
   "source": [
    "df_new = X_origin"
   ]
  },
  {
   "cell_type": "code",
   "execution_count": null,
   "metadata": {},
   "outputs": [],
   "source": [
    "num_features = [\"age\",\n",
    "\"ainc\",\n",
    "\"HE_sbp\",\n",
    "\"HE_dbp\",\n",
    "\"HE_ht\",\n",
    "\"HE_wt\",\n",
    "\"HE_wc\",\n",
    "\"HE_glu\",\n",
    "\"HE_chol\",\n",
    "\"HE_HDL_st2\",\n",
    "\"HE_TG\",\n",
    "\"HE_ast\",\n",
    "\"HE_alt\",\n",
    "\"HE_HB\",\n",
    "\"HE_HCT\",\n",
    "\"HE_BUN\",\n",
    "\"HE_crea\",\n",
    "\"HE_WBC\",\n",
    "\"HE_RBC\",\n",
    "\"HE_Bplt\",\n",
    "\"HE_Uph\",\n",
    "\"HE_Usg\",\n",
    "\"depressed\"\n",
    "]"
   ]
  },
  {
   "cell_type": "code",
   "execution_count": null,
   "metadata": {},
   "outputs": [],
   "source": [
    "df_num = df_new[num_features]\n",
    "sns.heatmap(df_num.corr(), annot=True, fmt='.2f')\n",
    "plt.title(\"numeric data and depressed correlation\")\n",
    "plt.show()"
   ]
  }
 ],
 "metadata": {
  "kernelspec": {
   "display_name": "MathAI",
   "language": "python",
   "name": "python3"
  },
  "language_info": {
   "codemirror_mode": {
    "name": "ipython",
    "version": 3
   },
   "file_extension": ".py",
   "mimetype": "text/x-python",
   "name": "python",
   "nbconvert_exporter": "python",
   "pygments_lexer": "ipython3",
   "version": "3.10.13"
  }
 },
 "nbformat": 4,
 "nbformat_minor": 2
}
