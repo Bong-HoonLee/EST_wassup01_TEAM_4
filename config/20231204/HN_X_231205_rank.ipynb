{
 "cells": [
  {
   "cell_type": "code",
   "execution_count": null,
   "metadata": {},
   "outputs": [],
   "source": [
    "import pandas as pd\n",
    "\n",
    "df = pd.read_csv('./HN_X_231205.csv')\n",
    "df_rank = df.sort_values(by=['val_loss_mean'], inplace=False)\n",
    "df_rank.head(10)"
   ]
  }
 ],
 "metadata": {
  "language_info": {
   "name": "python"
  },
  "orig_nbformat": 4
 },
 "nbformat": 4,
 "nbformat_minor": 2
}
